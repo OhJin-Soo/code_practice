{
  "nbformat": 4,
  "nbformat_minor": 0,
  "metadata": {
    "colab": {
      "provenance": []
    },
    "kernelspec": {
      "name": "python3",
      "display_name": "Python 3"
    },
    "language_info": {
      "name": "python"
    }
  },
  "cells": [
    {
      "cell_type": "code",
      "execution_count": 1,
      "metadata": {
        "colab": {
          "base_uri": "https://localhost:8080/"
        },
        "id": "AWlgT6mJbDyT",
        "outputId": "150a30fe-e85e-40cd-9c78-fe85a5bbaf2f"
      },
      "outputs": [
        {
          "output_type": "execute_result",
          "data": {
            "text/plain": [
              "array([160, 181, 154, 153, 190, 165, 174, 152, 170, 182])"
            ]
          },
          "metadata": {},
          "execution_count": 1
        }
      ],
      "source": [
        "import numpy as np\n",
        "\n",
        "np.random.randint(150,191,size=10)"
      ]
    },
    {
      "cell_type": "code",
      "source": [
        "rnd = np.random.randn(5) * 10 + 165\n",
        "rnd"
      ],
      "metadata": {
        "colab": {
          "base_uri": "https://localhost:8080/"
        },
        "id": "qL1dDlvcc2o-",
        "outputId": "678662ca-dede-4653-978a-88c557f58911"
      },
      "execution_count": 4,
      "outputs": [
        {
          "output_type": "execute_result",
          "data": {
            "text/plain": [
              "array([151.04679467, 158.08025584, 153.22867796, 144.24883929,\n",
              "       175.20471971])"
            ]
          },
          "metadata": {},
          "execution_count": 4
        }
      ]
    },
    {
      "cell_type": "code",
      "source": [
        "rnd.round(2)"
      ],
      "metadata": {
        "colab": {
          "base_uri": "https://localhost:8080/"
        },
        "id": "U7AC9FKGdH7g",
        "outputId": "65895805-e2b3-42c2-d581-fd614f977edc"
      },
      "execution_count": 5,
      "outputs": [
        {
          "output_type": "execute_result",
          "data": {
            "text/plain": [
              "array([151.05, 158.08, 153.23, 144.25, 175.2 ])"
            ]
          },
          "metadata": {},
          "execution_count": 5
        }
      ]
    },
    {
      "cell_type": "code",
      "source": [
        "rnd.astype(int)"
      ],
      "metadata": {
        "colab": {
          "base_uri": "https://localhost:8080/"
        },
        "id": "FbuRfixedkGj",
        "outputId": "c7821808-878e-4018-a082-f69f7b8d45e5"
      },
      "execution_count": 7,
      "outputs": [
        {
          "output_type": "execute_result",
          "data": {
            "text/plain": [
              "array([151, 158, 153, 144, 175])"
            ]
          },
          "metadata": {},
          "execution_count": 7
        }
      ]
    },
    {
      "cell_type": "code",
      "source": [
        "nums = np.random.normal(loc=165, scale=10, size=(3,4)).round(2)\n",
        "nums"
      ],
      "metadata": {
        "colab": {
          "base_uri": "https://localhost:8080/"
        },
        "id": "1ccfQx1Ldmfd",
        "outputId": "7e8e0372-aa3e-4abf-8cf3-149c536067a8"
      },
      "execution_count": 8,
      "outputs": [
        {
          "output_type": "execute_result",
          "data": {
            "text/plain": [
              "array([[163.71, 168.54, 169.29, 166.17],\n",
              "       [177.48, 156.97, 157.  , 154.52],\n",
              "       [158.92, 164.99, 168.7 , 168.64]])"
            ]
          },
          "metadata": {},
          "execution_count": 8
        }
      ]
    },
    {
      "cell_type": "code",
      "source": [
        "a = np.arange(10)\n",
        "np.random.shuffle(a)\n",
        "a"
      ],
      "metadata": {
        "colab": {
          "base_uri": "https://localhost:8080/"
        },
        "id": "YOuO3fyFd2pB",
        "outputId": "a3d1ccda-f3a2-4b34-b993-2d6918e06fda"
      },
      "execution_count": 9,
      "outputs": [
        {
          "output_type": "execute_result",
          "data": {
            "text/plain": [
              "array([8, 7, 1, 4, 6, 3, 5, 9, 2, 0])"
            ]
          },
          "metadata": {},
          "execution_count": 9
        }
      ]
    },
    {
      "cell_type": "code",
      "source": [
        "np.random.permutation([2,4,6,8,10])"
      ],
      "metadata": {
        "colab": {
          "base_uri": "https://localhost:8080/"
        },
        "id": "RHMuO1wHi1jR",
        "outputId": "660a3a1d-0c57-4f81-901b-41b619e09326"
      },
      "execution_count": 10,
      "outputs": [
        {
          "output_type": "execute_result",
          "data": {
            "text/plain": [
              "array([ 6,  8, 10,  2,  4])"
            ]
          },
          "metadata": {},
          "execution_count": 10
        }
      ]
    },
    {
      "cell_type": "code",
      "source": [
        "a = np.arange(1,51)\n",
        "b = np.random.shuffle(a)"
      ],
      "metadata": {
        "colab": {
          "base_uri": "https://localhost:8080/"
        },
        "id": "bvqIUHVni9KV",
        "outputId": "dd242946-b9d7-467f-ebef-84f24a51a6c9"
      },
      "execution_count": 12,
      "outputs": [
        {
          "output_type": "execute_result",
          "data": {
            "text/plain": [
              "array([ 1,  2,  3,  4,  5,  6,  7,  8,  9, 10, 11, 12, 13, 14, 15, 16, 17,\n",
              "       18, 19, 20, 21, 22, 23, 24, 25, 26, 27, 28, 29, 30, 31, 32, 33, 34,\n",
              "       35, 36, 37, 38, 39, 40, 41, 42, 43, 44, 45, 46, 47, 48, 49, 50])"
            ]
          },
          "metadata": {},
          "execution_count": 12
        }
      ]
    },
    {
      "cell_type": "code",
      "source": [
        "def train_test_split(array, data_ratio=0.8):\n",
        "  flat_array = array.flatten()\n",
        "  np.random.shuffle(flat_array)\n",
        "\n",
        "  split_idx = int(len(flat_array) * data_ratio)\n",
        "\n",
        "  train_data = flat_array[:split_idx]\n",
        "  test_data = flat_array[split_idx:]\n",
        "\n",
        "  return train_data,test_data\n",
        "\n",
        "array = np.arange(1,51).reshape(5,10)\n",
        "train_data, test_data = train_test_split(array)\n",
        "print(\"train: \",train_data)\n",
        "print(\"test: \",test_data)"
      ],
      "metadata": {
        "colab": {
          "base_uri": "https://localhost:8080/"
        },
        "id": "QnjjwFjEjKak",
        "outputId": "376512a8-8267-4a08-a36b-5bbab57b9820"
      },
      "execution_count": 20,
      "outputs": [
        {
          "output_type": "stream",
          "name": "stdout",
          "text": [
            "train:  [36 12 37  9 23 41 50 38 13 20 21 25  1 24 18 34 29 15 22 31 10 45 40 19\n",
            " 39 44 26 43  5 48 49 47 35  3 32 42 33 11 28  4]\n",
            "test:  [ 7 16  8 14  2 30 17 46 27  6]\n"
          ]
        }
      ]
    },
    {
      "cell_type": "code",
      "source": [
        "arr_2d =np.array([[1,2,3],\n",
        "                  [4,5,6],\n",
        "                  [7,8,9],\n",
        "                  [0,1,2]])\n",
        "arr_2d[1: , 0:2]"
      ],
      "metadata": {
        "colab": {
          "base_uri": "https://localhost:8080/"
        },
        "id": "xj-lA2Bkmjwd",
        "outputId": "0adc8018-b15c-458b-d335-46008697fe43"
      },
      "execution_count": 21,
      "outputs": [
        {
          "output_type": "execute_result",
          "data": {
            "text/plain": [
              "array([[4, 5],\n",
              "       [7, 8],\n",
              "       [0, 1]])"
            ]
          },
          "metadata": {},
          "execution_count": 21
        }
      ]
    },
    {
      "cell_type": "code",
      "source": [
        "np_array = np.array([[1,2,3,4],[5,6,7,8],[9,10,11,12],[13,14,15,16]])\n",
        "np_array % 2 == 0"
      ],
      "metadata": {
        "colab": {
          "base_uri": "https://localhost:8080/"
        },
        "id": "NrOMoBuUowYA",
        "outputId": "596caac0-1516-41a0-cb7d-710397a95d8a"
      },
      "execution_count": 23,
      "outputs": [
        {
          "output_type": "execute_result",
          "data": {
            "text/plain": [
              "array([[False,  True, False,  True],\n",
              "       [False,  True, False,  True],\n",
              "       [False,  True, False,  True],\n",
              "       [False,  True, False,  True]])"
            ]
          },
          "metadata": {},
          "execution_count": 23
        }
      ]
    },
    {
      "cell_type": "code",
      "source": [
        "np_array[ np_array % 2 == 0 ]"
      ],
      "metadata": {
        "colab": {
          "base_uri": "https://localhost:8080/"
        },
        "id": "72EjgSTnpDYc",
        "outputId": "06a59efc-f3a8-418b-c79a-f512933da0e2"
      },
      "execution_count": 24,
      "outputs": [
        {
          "output_type": "execute_result",
          "data": {
            "text/plain": [
              "array([ 2,  4,  6,  8, 10, 12, 14, 16])"
            ]
          },
          "metadata": {},
          "execution_count": 24
        }
      ]
    },
    {
      "cell_type": "code",
      "source": [
        "import numpy as np\n",
        "import time\n",
        "\n",
        "arr_a = np.random.rand(100)\n",
        "arr_b = np.random.rand(100)\n",
        "result = np.zeros(100)"
      ],
      "metadata": {
        "id": "R9QBAzD-pMka"
      },
      "execution_count": 25,
      "outputs": []
    },
    {
      "cell_type": "code",
      "source": [
        "start = time.time()\n",
        "for i in range(len(arr_a)):\n",
        "  result[i] = arr_a[i] * arr_b[i]\n",
        "end = time.time()\n",
        "print(\"소요시간: \", end - start)"
      ],
      "metadata": {
        "colab": {
          "base_uri": "https://localhost:8080/"
        },
        "id": "Vco8C11jpn4E",
        "outputId": "4700ca5e-0dc7-436e-eb4c-0e36e4202532"
      },
      "execution_count": 26,
      "outputs": [
        {
          "output_type": "stream",
          "name": "stdout",
          "text": [
            "소요시간:  0.0005335807800292969\n"
          ]
        }
      ]
    },
    {
      "cell_type": "code",
      "source": [
        "start = time.time()\n",
        "result = arr_a * arr_b\n",
        "end =time.time()\n",
        "print(\"소요시간: \", end - start)"
      ],
      "metadata": {
        "colab": {
          "base_uri": "https://localhost:8080/"
        },
        "id": "A3iXdey-p7-q",
        "outputId": "72ba570c-0c70-4631-f14c-9e67571e183e"
      },
      "execution_count": 27,
      "outputs": [
        {
          "output_type": "stream",
          "name": "stdout",
          "text": [
            "소요시간:  0.0002627372741699219\n"
          ]
        }
      ]
    },
    {
      "cell_type": "code",
      "source": [
        "arr = np.array([[1,2,3,4,5],\n",
        "                [1,2,3,4,5],\n",
        "                [1,2,3,4,5],\n",
        "                [1,2,3,4,5],\n",
        "                [1,2,3,4,5],\n",
        "                ])\n",
        "print(np.sum(arr, axis = 0))\n",
        "print(np.sum(arr, axis = 1))\n",
        "np.sum(arr, axis=(0,1))"
      ],
      "metadata": {
        "colab": {
          "base_uri": "https://localhost:8080/"
        },
        "id": "oTcK4axPqT3H",
        "outputId": "b1e593f9-eb8a-44ab-b0d0-67a8b660f3db"
      },
      "execution_count": 28,
      "outputs": [
        {
          "output_type": "stream",
          "name": "stdout",
          "text": [
            "[ 5 10 15 20 25]\n",
            "[15 15 15 15 15]\n"
          ]
        },
        {
          "output_type": "execute_result",
          "data": {
            "text/plain": [
              "75"
            ]
          },
          "metadata": {},
          "execution_count": 28
        }
      ]
    },
    {
      "cell_type": "code",
      "source": [
        "n = 1000\n",
        "arr = np.random.rand(n,n)"
      ],
      "metadata": {
        "id": "GQV8aKq-rGEP"
      },
      "execution_count": 29,
      "outputs": []
    },
    {
      "cell_type": "code",
      "source": [
        "sum_naive = 0\n",
        "start = time.time()\n",
        "for i in range(n):\n",
        "  for j in range(n):\n",
        "    sum_naive += arr[i,j]\n",
        "end = time.time()\n",
        "print(n, 'x', n, \"배열의 원소 합\", sum_naive, \"\\n계산 시간: \", end-start)"
      ],
      "metadata": {
        "colab": {
          "base_uri": "https://localhost:8080/"
        },
        "id": "Y-tpLAnjr3Gp",
        "outputId": "e96435e2-120c-42ef-bd2b-e1fbb70fd185"
      },
      "execution_count": 30,
      "outputs": [
        {
          "output_type": "stream",
          "name": "stdout",
          "text": [
            "1000 x 1000 배열의 원소 합 500294.1492639159 \n",
            "계산 시간:  0.4703636169433594\n"
          ]
        }
      ]
    },
    {
      "cell_type": "code",
      "source": [
        "start = time.time()\n",
        "sum_reduction = np.sum(arr, axis = (0,1))\n",
        "end = time.time()\n",
        "print(n, 'x', n, \"배열의 원소 합\", sum_naive, \"\\n계산 시간: \", end-start)"
      ],
      "metadata": {
        "colab": {
          "base_uri": "https://localhost:8080/"
        },
        "id": "igADD8yPsK8n",
        "outputId": "023d896e-5a2e-4c85-9ac5-75154cb05410"
      },
      "execution_count": 31,
      "outputs": [
        {
          "output_type": "stream",
          "name": "stdout",
          "text": [
            "1000 x 1000 배열의 원소 합 500294.1492639159 \n",
            "계산 시간:  0.0018854141235351562\n"
          ]
        }
      ]
    },
    {
      "cell_type": "code",
      "source": [
        "a = np.array([[1,2],[1,-3]])\n",
        "b = np.array([6,1])\n",
        "s = np.linalg.solve(a,b)\n",
        "print(s)"
      ],
      "metadata": {
        "colab": {
          "base_uri": "https://localhost:8080/"
        },
        "id": "koEimMHYshr7",
        "outputId": "81568050-d3c6-4629-ba4a-e6087f42c573"
      },
      "execution_count": 32,
      "outputs": [
        {
          "output_type": "stream",
          "name": "stdout",
          "text": [
            "[4. 1.]\n"
          ]
        }
      ]
    },
    {
      "cell_type": "code",
      "source": [
        "a = np.array([[2,1],[4,5]])\n",
        "det_a = np.linalg.det(a)\n",
        "b = np.array([[1,2],[3,-6]])\n",
        "det_b = np.linalg.det(b)\n",
        "print(det_a,det_b)"
      ],
      "metadata": {
        "colab": {
          "base_uri": "https://localhost:8080/"
        },
        "id": "mfn3Fs0os6VU",
        "outputId": "6e6798e8-a01c-457a-8fc6-d0011f72343c"
      },
      "execution_count": 33,
      "outputs": [
        {
          "output_type": "stream",
          "name": "stdout",
          "text": [
            "6.0 -12.0\n"
          ]
        }
      ]
    },
    {
      "cell_type": "code",
      "source": [
        "a = np.array([[1,2,-1],[2,-1,3],[1,2,1]])\n",
        "b = np.array([0,9,8])\n",
        "s = np.linalg.solve(a,b)\n",
        "print(s)"
      ],
      "metadata": {
        "colab": {
          "base_uri": "https://localhost:8080/"
        },
        "id": "8Dmb16GVwRZ4",
        "outputId": "59fff392-f7cb-41e4-f93e-e809f049a34d"
      },
      "execution_count": 34,
      "outputs": [
        {
          "output_type": "stream",
          "name": "stdout",
          "text": [
            "[-0.4  2.2  4. ]\n"
          ]
        }
      ]
    },
    {
      "cell_type": "code",
      "source": [
        "A = np.array([[1,1,-1],[2,-1,3],[1,2,1]], dtype = 'int32')\n",
        "det_A = np.linalg.det(A)\n",
        "print(det_A)"
      ],
      "metadata": {
        "colab": {
          "base_uri": "https://localhost:8080/"
        },
        "id": "KdTRAuv6xaac",
        "outputId": "5b0c8d23-02eb-4a9d-ef49-7b3ace51a5c3"
      },
      "execution_count": 35,
      "outputs": [
        {
          "output_type": "stream",
          "name": "stdout",
          "text": [
            "-11.000000000000002\n"
          ]
        }
      ]
    },
    {
      "cell_type": "code",
      "source": [
        "a = np.arange(10,18).reshape(2,4)\n",
        "b = np.arange(12).reshape(3,4)\n",
        "c = np.arange(8).reshape(2,4)\n",
        "d = list(range(4))\n",
        "print(a, end = \"\\n\\n\")\n",
        "print(b, end = \"\\n\\n\")\n",
        "print(c, end = \"\\n\\n\")\n",
        "print(d)"
      ],
      "metadata": {
        "colab": {
          "base_uri": "https://localhost:8080/"
        },
        "id": "y1Y0bGAWyrIV",
        "outputId": "57f10fdc-1660-486d-c52b-fd1e2c0f5514"
      },
      "execution_count": 44,
      "outputs": [
        {
          "output_type": "stream",
          "name": "stdout",
          "text": [
            "[[10 11 12 13]\n",
            " [14 15 16 17]]\n",
            "\n",
            "[[ 0  1  2  3]\n",
            " [ 4  5  6  7]\n",
            " [ 8  9 10 11]]\n",
            "\n",
            "[[0 1 2 3]\n",
            " [4 5 6 7]]\n",
            "\n",
            "[0, 1, 2, 3]\n"
          ]
        }
      ]
    },
    {
      "cell_type": "code",
      "source": [
        "np.concatenate((a,b))"
      ],
      "metadata": {
        "colab": {
          "base_uri": "https://localhost:8080/"
        },
        "id": "cJ0q7GDl0ZIA",
        "outputId": "89e2636d-4e93-47f9-b72a-f558085a659d"
      },
      "execution_count": 45,
      "outputs": [
        {
          "output_type": "execute_result",
          "data": {
            "text/plain": [
              "array([[10, 11, 12, 13],\n",
              "       [14, 15, 16, 17],\n",
              "       [ 0,  1,  2,  3],\n",
              "       [ 4,  5,  6,  7],\n",
              "       [ 8,  9, 10, 11]])"
            ]
          },
          "metadata": {},
          "execution_count": 45
        }
      ]
    },
    {
      "cell_type": "code",
      "source": [
        "np.vstack((a,b))"
      ],
      "metadata": {
        "colab": {
          "base_uri": "https://localhost:8080/"
        },
        "id": "RItc7lRr1Si5",
        "outputId": "dbc1f681-7d10-49ac-9ce1-47105fae4d82"
      },
      "execution_count": 46,
      "outputs": [
        {
          "output_type": "execute_result",
          "data": {
            "text/plain": [
              "array([[10, 11, 12, 13],\n",
              "       [14, 15, 16, 17],\n",
              "       [ 0,  1,  2,  3],\n",
              "       [ 4,  5,  6,  7],\n",
              "       [ 8,  9, 10, 11]])"
            ]
          },
          "metadata": {},
          "execution_count": 46
        }
      ]
    },
    {
      "cell_type": "code",
      "source": [
        "np.vstack((a,d))"
      ],
      "metadata": {
        "colab": {
          "base_uri": "https://localhost:8080/"
        },
        "id": "dhPoVQML1W8x",
        "outputId": "ed384589-f8cd-4461-8ebf-fe1b6e1d9a38"
      },
      "execution_count": 48,
      "outputs": [
        {
          "output_type": "execute_result",
          "data": {
            "text/plain": [
              "array([[10, 11, 12, 13],\n",
              "       [14, 15, 16, 17],\n",
              "       [ 0,  1,  2,  3]])"
            ]
          },
          "metadata": {},
          "execution_count": 48
        }
      ]
    },
    {
      "cell_type": "code",
      "source": [
        "np.vstack((a,b,d))"
      ],
      "metadata": {
        "colab": {
          "base_uri": "https://localhost:8080/"
        },
        "id": "RQJJO91u1bgM",
        "outputId": "5203d28d-6f7a-481e-a1cc-b83c75a9a2e5"
      },
      "execution_count": 49,
      "outputs": [
        {
          "output_type": "execute_result",
          "data": {
            "text/plain": [
              "array([[10, 11, 12, 13],\n",
              "       [14, 15, 16, 17],\n",
              "       [ 0,  1,  2,  3],\n",
              "       [ 4,  5,  6,  7],\n",
              "       [ 8,  9, 10, 11],\n",
              "       [ 0,  1,  2,  3]])"
            ]
          },
          "metadata": {},
          "execution_count": 49
        }
      ]
    },
    {
      "cell_type": "code",
      "source": [
        "np.hstack((a,c))"
      ],
      "metadata": {
        "colab": {
          "base_uri": "https://localhost:8080/"
        },
        "id": "iVXElwcY1ikw",
        "outputId": "36ef3401-cbfc-4a14-c016-5b8e84c29dcc"
      },
      "execution_count": 50,
      "outputs": [
        {
          "output_type": "execute_result",
          "data": {
            "text/plain": [
              "array([[10, 11, 12, 13,  0,  1,  2,  3],\n",
              "       [14, 15, 16, 17,  4,  5,  6,  7]])"
            ]
          },
          "metadata": {},
          "execution_count": 50
        }
      ]
    },
    {
      "cell_type": "code",
      "source": [
        "np.hstack((a,b))"
      ],
      "metadata": {
        "colab": {
          "base_uri": "https://localhost:8080/",
          "height": 276
        },
        "id": "2KzvwwJN1lIV",
        "outputId": "a8fe02c4-e287-421f-b294-9e63523498fd"
      },
      "execution_count": 51,
      "outputs": [
        {
          "output_type": "error",
          "ename": "ValueError",
          "evalue": "all the input array dimensions except for the concatenation axis must match exactly, but along dimension 0, the array at index 0 has size 2 and the array at index 1 has size 3",
          "traceback": [
            "\u001b[0;31m---------------------------------------------------------------------------\u001b[0m",
            "\u001b[0;31mValueError\u001b[0m                                Traceback (most recent call last)",
            "\u001b[0;32m<ipython-input-51-4ae1392ff801>\u001b[0m in \u001b[0;36m<cell line: 1>\u001b[0;34m()\u001b[0m\n\u001b[0;32m----> 1\u001b[0;31m \u001b[0mnp\u001b[0m\u001b[0;34m.\u001b[0m\u001b[0mhstack\u001b[0m\u001b[0;34m(\u001b[0m\u001b[0;34m(\u001b[0m\u001b[0ma\u001b[0m\u001b[0;34m,\u001b[0m\u001b[0mb\u001b[0m\u001b[0;34m)\u001b[0m\u001b[0;34m)\u001b[0m\u001b[0;34m\u001b[0m\u001b[0;34m\u001b[0m\u001b[0m\n\u001b[0m",
            "\u001b[0;32m/usr/local/lib/python3.10/dist-packages/numpy/core/shape_base.py\u001b[0m in \u001b[0;36mhstack\u001b[0;34m(tup, dtype, casting)\u001b[0m\n\u001b[1;32m    357\u001b[0m         \u001b[0;32mreturn\u001b[0m \u001b[0m_nx\u001b[0m\u001b[0;34m.\u001b[0m\u001b[0mconcatenate\u001b[0m\u001b[0;34m(\u001b[0m\u001b[0marrs\u001b[0m\u001b[0;34m,\u001b[0m \u001b[0;36m0\u001b[0m\u001b[0;34m,\u001b[0m \u001b[0mdtype\u001b[0m\u001b[0;34m=\u001b[0m\u001b[0mdtype\u001b[0m\u001b[0;34m,\u001b[0m \u001b[0mcasting\u001b[0m\u001b[0;34m=\u001b[0m\u001b[0mcasting\u001b[0m\u001b[0;34m)\u001b[0m\u001b[0;34m\u001b[0m\u001b[0;34m\u001b[0m\u001b[0m\n\u001b[1;32m    358\u001b[0m     \u001b[0;32melse\u001b[0m\u001b[0;34m:\u001b[0m\u001b[0;34m\u001b[0m\u001b[0;34m\u001b[0m\u001b[0m\n\u001b[0;32m--> 359\u001b[0;31m         \u001b[0;32mreturn\u001b[0m \u001b[0m_nx\u001b[0m\u001b[0;34m.\u001b[0m\u001b[0mconcatenate\u001b[0m\u001b[0;34m(\u001b[0m\u001b[0marrs\u001b[0m\u001b[0;34m,\u001b[0m \u001b[0;36m1\u001b[0m\u001b[0;34m,\u001b[0m \u001b[0mdtype\u001b[0m\u001b[0;34m=\u001b[0m\u001b[0mdtype\u001b[0m\u001b[0;34m,\u001b[0m \u001b[0mcasting\u001b[0m\u001b[0;34m=\u001b[0m\u001b[0mcasting\u001b[0m\u001b[0;34m)\u001b[0m\u001b[0;34m\u001b[0m\u001b[0;34m\u001b[0m\u001b[0m\n\u001b[0m\u001b[1;32m    360\u001b[0m \u001b[0;34m\u001b[0m\u001b[0m\n\u001b[1;32m    361\u001b[0m \u001b[0;34m\u001b[0m\u001b[0m\n",
            "\u001b[0;31mValueError\u001b[0m: all the input array dimensions except for the concatenation axis must match exactly, but along dimension 0, the array at index 0 has size 2 and the array at index 1 has size 3"
          ]
        }
      ]
    },
    {
      "cell_type": "code",
      "source": [
        "np.r_[a,b]"
      ],
      "metadata": {
        "colab": {
          "base_uri": "https://localhost:8080/"
        },
        "id": "mUaT0vTb1nU2",
        "outputId": "8269cc0d-2902-4e69-a007-5e954b7cf9c0"
      },
      "execution_count": 52,
      "outputs": [
        {
          "output_type": "execute_result",
          "data": {
            "text/plain": [
              "array([[10, 11, 12, 13],\n",
              "       [14, 15, 16, 17],\n",
              "       [ 0,  1,  2,  3],\n",
              "       [ 4,  5,  6,  7],\n",
              "       [ 8,  9, 10, 11]])"
            ]
          },
          "metadata": {},
          "execution_count": 52
        }
      ]
    },
    {
      "cell_type": "code",
      "source": [
        "a = np.array([1,2,3])\n",
        "b = np.array([10,20,30])\n",
        "c = np.array([[1,2,3],[4,5,6]])\n",
        "d = np.array([[10,20,30],[40,50,60]])"
      ],
      "metadata": {
        "id": "dCxQw1om1593"
      },
      "execution_count": 53,
      "outputs": []
    },
    {
      "cell_type": "code",
      "source": [
        "np.r_[a,b]"
      ],
      "metadata": {
        "colab": {
          "base_uri": "https://localhost:8080/"
        },
        "id": "ZQnIcwoN2YMb",
        "outputId": "3f10eece-b881-44e5-b635-28eb49f84366"
      },
      "execution_count": 55,
      "outputs": [
        {
          "output_type": "execute_result",
          "data": {
            "text/plain": [
              "array([ 1,  2,  3, 10, 20, 30])"
            ]
          },
          "metadata": {},
          "execution_count": 55
        }
      ]
    },
    {
      "cell_type": "code",
      "source": [
        "np.r_[a,4,5,6,b]"
      ],
      "metadata": {
        "colab": {
          "base_uri": "https://localhost:8080/"
        },
        "id": "itVvfn8Y2aLh",
        "outputId": "9422787a-7d2a-4987-cb2b-08a8f2f1426c"
      },
      "execution_count": 56,
      "outputs": [
        {
          "output_type": "execute_result",
          "data": {
            "text/plain": [
              "array([ 1,  2,  3,  4,  5,  6, 10, 20, 30])"
            ]
          },
          "metadata": {},
          "execution_count": 56
        }
      ]
    },
    {
      "cell_type": "code",
      "source": [
        "np.r_[[0]*3,5,6]"
      ],
      "metadata": {
        "colab": {
          "base_uri": "https://localhost:8080/"
        },
        "id": "4SEWDL6J2f0f",
        "outputId": "dfe70de3-3d25-42c3-f6b7-79a63491ec78"
      },
      "execution_count": 57,
      "outputs": [
        {
          "output_type": "execute_result",
          "data": {
            "text/plain": [
              "array([0, 0, 0, 5, 6])"
            ]
          },
          "metadata": {},
          "execution_count": 57
        }
      ]
    },
    {
      "cell_type": "code",
      "source": [
        "np.r_[c,d]"
      ],
      "metadata": {
        "colab": {
          "base_uri": "https://localhost:8080/"
        },
        "id": "ylU1xwzF2jXk",
        "outputId": "608544b9-01d6-46e4-e8a2-ed9a96cb1a43"
      },
      "execution_count": 58,
      "outputs": [
        {
          "output_type": "execute_result",
          "data": {
            "text/plain": [
              "array([[ 1,  2,  3],\n",
              "       [ 4,  5,  6],\n",
              "       [10, 20, 30],\n",
              "       [40, 50, 60]])"
            ]
          },
          "metadata": {},
          "execution_count": 58
        }
      ]
    },
    {
      "cell_type": "code",
      "source": [
        "np.r_[a.reshape(-1,1), b.reshape(-1,1)]"
      ],
      "metadata": {
        "colab": {
          "base_uri": "https://localhost:8080/"
        },
        "id": "9v4rPdT02kog",
        "outputId": "a1b42755-dcd8-4e14-955c-d99500457a6a"
      },
      "execution_count": 60,
      "outputs": [
        {
          "output_type": "execute_result",
          "data": {
            "text/plain": [
              "array([[ 1],\n",
              "       [ 2],\n",
              "       [ 3],\n",
              "       [10],\n",
              "       [20],\n",
              "       [30]])"
            ]
          },
          "metadata": {},
          "execution_count": 60
        }
      ]
    },
    {
      "cell_type": "code",
      "source": [
        "np.concatenate((a.reshape(-1,1), b.reshape(-1,1)), axis = 1)"
      ],
      "metadata": {
        "colab": {
          "base_uri": "https://localhost:8080/"
        },
        "id": "_nUPYGr-2rYX",
        "outputId": "95cce430-294c-486b-85bf-d3fe7db76276"
      },
      "execution_count": 61,
      "outputs": [
        {
          "output_type": "execute_result",
          "data": {
            "text/plain": [
              "array([[ 1, 10],\n",
              "       [ 2, 20],\n",
              "       [ 3, 30]])"
            ]
          },
          "metadata": {},
          "execution_count": 61
        }
      ]
    },
    {
      "cell_type": "code",
      "source": [
        "np.c_[a,b]"
      ],
      "metadata": {
        "colab": {
          "base_uri": "https://localhost:8080/"
        },
        "id": "kMZLqml5KYU-",
        "outputId": "d6830bcb-68f5-4159-e230-8aa7980d923f"
      },
      "execution_count": 62,
      "outputs": [
        {
          "output_type": "execute_result",
          "data": {
            "text/plain": [
              "array([[ 1, 10],\n",
              "       [ 2, 20],\n",
              "       [ 3, 30]])"
            ]
          },
          "metadata": {},
          "execution_count": 62
        }
      ]
    },
    {
      "cell_type": "code",
      "source": [
        "np.column_stack([a,b])"
      ],
      "metadata": {
        "colab": {
          "base_uri": "https://localhost:8080/"
        },
        "id": "SiF6c4NiMWmK",
        "outputId": "3d800c51-6f79-4899-bd7a-07ae3bae3b65"
      },
      "execution_count": 64,
      "outputs": [
        {
          "output_type": "execute_result",
          "data": {
            "text/plain": [
              "array([[ 1, 10],\n",
              "       [ 2, 20],\n",
              "       [ 3, 30]])"
            ]
          },
          "metadata": {},
          "execution_count": 64
        }
      ]
    },
    {
      "cell_type": "code",
      "source": [
        "np.concatenate((c.T,d.T), axis=1)"
      ],
      "metadata": {
        "colab": {
          "base_uri": "https://localhost:8080/"
        },
        "id": "DG77EBRpMZxd",
        "outputId": "5190dbdc-4245-442e-ec02-373d0b95875e"
      },
      "execution_count": 65,
      "outputs": [
        {
          "output_type": "execute_result",
          "data": {
            "text/plain": [
              "array([[ 1,  4, 10, 40],\n",
              "       [ 2,  5, 20, 50],\n",
              "       [ 3,  6, 30, 60]])"
            ]
          },
          "metadata": {},
          "execution_count": 65
        }
      ]
    },
    {
      "cell_type": "markdown",
      "source": [],
      "metadata": {
        "id": "FR1Qd0YnM6Wf"
      }
    },
    {
      "cell_type": "code",
      "source": [
        "np.linspace(0,10,5)"
      ],
      "metadata": {
        "colab": {
          "base_uri": "https://localhost:8080/"
        },
        "id": "xnj3k-RRNUvY",
        "outputId": "5b7ed945-2ee5-4515-923e-c081819366ba"
      },
      "execution_count": 83,
      "outputs": [
        {
          "output_type": "execute_result",
          "data": {
            "text/plain": [
              "array([ 0. ,  2.5,  5. ,  7.5, 10. ])"
            ]
          },
          "metadata": {},
          "execution_count": 83
        }
      ]
    },
    {
      "cell_type": "code",
      "source": [
        "a = np.logspace(0,5,6).round(10)\n",
        "a"
      ],
      "metadata": {
        "colab": {
          "base_uri": "https://localhost:8080/"
        },
        "id": "xU8izPqZRZJ5",
        "outputId": "88dd08eb-5bc8-4ee2-8439-9efdd327cecc"
      },
      "execution_count": 85,
      "outputs": [
        {
          "output_type": "execute_result",
          "data": {
            "text/plain": [
              "array([1.e+00, 1.e+01, 1.e+02, 1.e+03, 1.e+04, 1.e+05])"
            ]
          },
          "metadata": {},
          "execution_count": 85
        }
      ]
    },
    {
      "cell_type": "code",
      "source": [
        "np.log10(a)"
      ],
      "metadata": {
        "colab": {
          "base_uri": "https://localhost:8080/"
        },
        "id": "7F9mg5dsRg2-",
        "outputId": "4c60d554-bf0c-44da-ddfc-dbae7572e4b1"
      },
      "execution_count": 86,
      "outputs": [
        {
          "output_type": "execute_result",
          "data": {
            "text/plain": [
              "array([0., 1., 2., 3., 4., 5.])"
            ]
          },
          "metadata": {},
          "execution_count": 86
        }
      ]
    },
    {
      "cell_type": "code",
      "source": [
        "a = np.array([1,3,4])\n",
        "np.insert(a,1,2)"
      ],
      "metadata": {
        "colab": {
          "base_uri": "https://localhost:8080/"
        },
        "id": "ScvLecUiRlEH",
        "outputId": "dfffe108-3d11-4475-edb5-487b54001ae1"
      },
      "execution_count": 87,
      "outputs": [
        {
          "output_type": "execute_result",
          "data": {
            "text/plain": [
              "array([1, 2, 3, 4])"
            ]
          },
          "metadata": {},
          "execution_count": 87
        }
      ]
    },
    {
      "cell_type": "code",
      "source": [
        "b = np.array([[1,1], [2,2], [3,3]])\n",
        "np.insert(b,1,4, axis=0)"
      ],
      "metadata": {
        "colab": {
          "base_uri": "https://localhost:8080/"
        },
        "id": "MzMK932PRqgJ",
        "outputId": "01ff4f4f-18f4-49ae-ef47-ad5b7b26e3f9"
      },
      "execution_count": 88,
      "outputs": [
        {
          "output_type": "execute_result",
          "data": {
            "text/plain": [
              "array([[1, 1],\n",
              "       [4, 4],\n",
              "       [2, 2],\n",
              "       [3, 3]])"
            ]
          },
          "metadata": {},
          "execution_count": 88
        }
      ]
    },
    {
      "cell_type": "code",
      "source": [
        "np.insert(b,1,4, axis = 1)"
      ],
      "metadata": {
        "colab": {
          "base_uri": "https://localhost:8080/"
        },
        "id": "TOimJBsxRwg9",
        "outputId": "b3a8ee2c-003d-42df-f9da-b4393ad5b042"
      },
      "execution_count": 89,
      "outputs": [
        {
          "output_type": "execute_result",
          "data": {
            "text/plain": [
              "array([[1, 4, 1],\n",
              "       [2, 4, 2],\n",
              "       [3, 4, 3]])"
            ]
          },
          "metadata": {},
          "execution_count": 89
        }
      ]
    },
    {
      "cell_type": "code",
      "source": [
        "c = np.array([[1,2,3],[4,5,6]])\n",
        "np.flip(c, axis=1)"
      ],
      "metadata": {
        "colab": {
          "base_uri": "https://localhost:8080/"
        },
        "id": "ViPtnnVvRzOc",
        "outputId": "7562b44e-32e8-4a87-9796-47674a088e7d"
      },
      "execution_count": 90,
      "outputs": [
        {
          "output_type": "execute_result",
          "data": {
            "text/plain": [
              "array([[3, 2, 1],\n",
              "       [6, 5, 4]])"
            ]
          },
          "metadata": {},
          "execution_count": 90
        }
      ]
    },
    {
      "cell_type": "code",
      "source": [
        "np.flip(c, axis=0)"
      ],
      "metadata": {
        "colab": {
          "base_uri": "https://localhost:8080/"
        },
        "id": "AzJUox2iR3_s",
        "outputId": "fd01ad25-69a8-4bc5-94f1-b87a416a7279"
      },
      "execution_count": 91,
      "outputs": [
        {
          "output_type": "execute_result",
          "data": {
            "text/plain": [
              "array([[4, 5, 6],\n",
              "       [1, 2, 3]])"
            ]
          },
          "metadata": {},
          "execution_count": 91
        }
      ]
    },
    {
      "cell_type": "code",
      "source": [
        "b = np.array([[1,1],[2,2],[3,3]])\n",
        "np.insert(b,1,[1,2,3], axis=1)"
      ],
      "metadata": {
        "colab": {
          "base_uri": "https://localhost:8080/"
        },
        "id": "d3-w_CTPR_nQ",
        "outputId": "1c8cee2a-d14e-49bf-99b4-3398017a8c2a"
      },
      "execution_count": 93,
      "outputs": [
        {
          "output_type": "execute_result",
          "data": {
            "text/plain": [
              "array([[1, 1, 1],\n",
              "       [2, 2, 2],\n",
              "       [3, 3, 3]])"
            ]
          },
          "metadata": {},
          "execution_count": 93
        }
      ]
    },
    {
      "cell_type": "markdown",
      "source": [
        "1) numpy의 arange() 함수를 사용하여 1에서 45까지의 연속적인 번호 생성."
      ],
      "metadata": {
        "id": "v87IuFWXk0PZ"
      }
    },
    {
      "cell_type": "code",
      "source": [
        "a =np.arange(1,46)\n",
        "a"
      ],
      "metadata": {
        "colab": {
          "base_uri": "https://localhost:8080/"
        },
        "id": "pwDQKtI_k1kq",
        "outputId": "d9dfd1e1-4a23-49a7-ee90-610f00586f38"
      },
      "execution_count": 131,
      "outputs": [
        {
          "output_type": "execute_result",
          "data": {
            "text/plain": [
              "array([ 1,  2,  3,  4,  5,  6,  7,  8,  9, 10, 11, 12, 13, 14, 15, 16, 17,\n",
              "       18, 19, 20, 21, 22, 23, 24, 25, 26, 27, 28, 29, 30, 31, 32, 33, 34,\n",
              "       35, 36, 37, 38, 39, 40, 41, 42, 43, 44, 45])"
            ]
          },
          "metadata": {},
          "execution_count": 131
        }
      ]
    },
    {
      "cell_type": "markdown",
      "source": [
        "2) 랜덤 씨드값 85로 설정, 그런 다음 이 배열을 랜덤하게 섞어서(shuffle) 첫 6개 숫자를 슬라이싱, 그 결과를 lotto라는 변수에 할당 후 출력"
      ],
      "metadata": {
        "id": "LOE_nEOJk5Kg"
      }
    },
    {
      "cell_type": "code",
      "source": [
        "np.random.seed(85)\n",
        "np.random.shuffle(a)\n",
        "lotto = a[:6]\n",
        "lotto"
      ],
      "metadata": {
        "colab": {
          "base_uri": "https://localhost:8080/"
        },
        "id": "npN6hfKBk_kR",
        "outputId": "9de3fbda-683f-44d0-90e2-44a0e6a76db7"
      },
      "execution_count": 132,
      "outputs": [
        {
          "output_type": "execute_result",
          "data": {
            "text/plain": [
              "array([22,  9, 15, 44, 39, 37])"
            ]
          },
          "metadata": {},
          "execution_count": 132
        }
      ]
    },
    {
      "cell_type": "markdown",
      "source": [
        "3) lotto 배열을 정렬 후 출력, 추가번호 출력, 추가번호는 7번째 숫자 출력."
      ],
      "metadata": {
        "id": "XAkJh6XweauO"
      }
    },
    {
      "cell_type": "code",
      "source": [
        "sort_lot = np.sort(lotto)\n",
        "print(sort_lot, end=\" \")\n",
        "print(\"추가번호= \", a[8])"
      ],
      "metadata": {
        "colab": {
          "base_uri": "https://localhost:8080/"
        },
        "id": "aPRUgdPzSKfZ",
        "outputId": "8cfec1a8-7355-4db6-e9d2-2e55097abe01"
      },
      "execution_count": 101,
      "outputs": [
        {
          "output_type": "stream",
          "name": "stdout",
          "text": [
            "[ 9 15 22 37 39 44] 추가번호=  21\n"
          ]
        }
      ]
    },
    {
      "cell_type": "markdown",
      "source": [
        "4) 다음과 같이 0에서 24까지의 값을 가지는 5 x 5 크기의 2차원 행렬 n_arr 출력"
      ],
      "metadata": {
        "id": "-40D6DdnlE8t"
      }
    },
    {
      "cell_type": "code",
      "source": [
        "n_arr = np.arange(25)\n",
        "n_arr = n_arr.reshape(5,5)\n",
        "n_arr"
      ],
      "metadata": {
        "colab": {
          "base_uri": "https://localhost:8080/"
        },
        "id": "Z6EIYj4ReqYF",
        "outputId": "8dfd2a9c-f70e-449d-e2d2-fc46ef3451ba"
      },
      "execution_count": 116,
      "outputs": [
        {
          "output_type": "execute_result",
          "data": {
            "text/plain": [
              "array([[ 0,  1,  2,  3,  4],\n",
              "       [ 5,  6,  7,  8,  9],\n",
              "       [10, 11, 12, 13, 14],\n",
              "       [15, 16, 17, 18, 19],\n",
              "       [20, 21, 22, 23, 24]])"
            ]
          },
          "metadata": {},
          "execution_count": 116
        }
      ]
    },
    {
      "cell_type": "markdown",
      "source": [
        "5) 첫 원소, 마지막 원소 출력 (마지막 원소 출력할떈 반드시 음수 사용)"
      ],
      "metadata": {
        "id": "h4qB1sRxlUcj"
      }
    },
    {
      "cell_type": "code",
      "source": [
        "print(\"첫 원소: \",n_arr[0])\n",
        "print(\"마지막 원소: \",n_arr[-1])"
      ],
      "metadata": {
        "colab": {
          "base_uri": "https://localhost:8080/"
        },
        "id": "v7h9y5Xwf2Qa",
        "outputId": "9bf6a9da-f6f4-4218-c6ea-697b5ecebcfa"
      },
      "execution_count": 105,
      "outputs": [
        {
          "output_type": "stream",
          "name": "stdout",
          "text": [
            "첫 원소:  0\n",
            "마지막 원소:  24\n"
          ]
        }
      ]
    },
    {
      "cell_type": "markdown",
      "source": [
        "6) 슬라이싱 적용하여 출력"
      ],
      "metadata": {
        "id": "x7WgJn4mlm2f"
      }
    },
    {
      "cell_type": "code",
      "source": [
        "n_arr[:2]"
      ],
      "metadata": {
        "colab": {
          "base_uri": "https://localhost:8080/"
        },
        "id": "7W9xVaJPgR3Q",
        "outputId": "b1b8e1d3-232a-4f2d-8176-3ac2265f6459"
      },
      "execution_count": 117,
      "outputs": [
        {
          "output_type": "execute_result",
          "data": {
            "text/plain": [
              "array([[0, 1, 2, 3, 4],\n",
              "       [5, 6, 7, 8, 9]])"
            ]
          },
          "metadata": {},
          "execution_count": 117
        }
      ]
    },
    {
      "cell_type": "markdown",
      "source": [
        "7) 슬라이싱 적용하여 출력"
      ],
      "metadata": {
        "id": "Ov4ufxr4lrly"
      }
    },
    {
      "cell_type": "code",
      "source": [
        "n_arr[:,[0,2,4]]"
      ],
      "metadata": {
        "colab": {
          "base_uri": "https://localhost:8080/"
        },
        "id": "8XkWeZdNgqCZ",
        "outputId": "11b7689e-197a-46e1-be4e-7519853440e7"
      },
      "execution_count": 119,
      "outputs": [
        {
          "output_type": "execute_result",
          "data": {
            "text/plain": [
              "array([[ 0,  2,  4],\n",
              "       [ 5,  7,  9],\n",
              "       [10, 12, 14],\n",
              "       [15, 17, 19],\n",
              "       [20, 22, 24]])"
            ]
          },
          "metadata": {},
          "execution_count": 119
        }
      ]
    },
    {
      "cell_type": "markdown",
      "source": [
        "8) reshape() 사용하여 출력"
      ],
      "metadata": {
        "id": "pn7PrsbalxHK"
      }
    },
    {
      "cell_type": "code",
      "source": [
        "n_arr[:2].reshape(-1,2)"
      ],
      "metadata": {
        "colab": {
          "base_uri": "https://localhost:8080/"
        },
        "id": "bWaPZVs1jBhg",
        "outputId": "baa487e0-5a34-4502-c819-e5d8fc25a98a"
      },
      "execution_count": 121,
      "outputs": [
        {
          "output_type": "execute_result",
          "data": {
            "text/plain": [
              "array([[0, 1],\n",
              "       [2, 3],\n",
              "       [4, 5],\n",
              "       [6, 7],\n",
              "       [8, 9]])"
            ]
          },
          "metadata": {},
          "execution_count": 121
        }
      ]
    },
    {
      "cell_type": "markdown",
      "source": [
        "난수로된 2 x 2 x 2 배열 생성"
      ],
      "metadata": {
        "id": "xOXTYLFyl1TM"
      }
    },
    {
      "cell_type": "code",
      "source": [
        "a = np.random.rand(2,2,2)\n",
        "a"
      ],
      "metadata": {
        "colab": {
          "base_uri": "https://localhost:8080/"
        },
        "id": "v0uH4ALIjqLv",
        "outputId": "5746b5b9-2a24-4315-cff3-4357a21f80a2"
      },
      "execution_count": 126,
      "outputs": [
        {
          "output_type": "execute_result",
          "data": {
            "text/plain": [
              "array([[[0.47642166, 0.4167415 ],\n",
              "        [0.9599303 , 0.66566491]],\n",
              "\n",
              "       [[0.65571357, 0.69839402],\n",
              "        [0.23767492, 0.12118492]]])"
            ]
          },
          "metadata": {},
          "execution_count": 126
        }
      ]
    },
    {
      "cell_type": "markdown",
      "source": [
        "9) 최대값"
      ],
      "metadata": {
        "id": "C5u1M7ALl8fo"
      }
    },
    {
      "cell_type": "code",
      "source": [
        "print(\"a 배열의 최대값: \",a.max())"
      ],
      "metadata": {
        "colab": {
          "base_uri": "https://localhost:8080/"
        },
        "id": "aEiOjXwAkJsG",
        "outputId": "d81c958e-c37e-46f4-b4aa-0ff54c7ee134"
      },
      "execution_count": 129,
      "outputs": [
        {
          "output_type": "stream",
          "name": "stdout",
          "text": [
            "a 배열의 최대값:  0.9599302963885098\n"
          ]
        }
      ]
    },
    {
      "cell_type": "markdown",
      "source": [
        "10) 최소값"
      ],
      "metadata": {
        "id": "gHl5vW2tl_S7"
      }
    },
    {
      "cell_type": "code",
      "source": [
        "print(\"a 배열의 최소값: \",a.min())"
      ],
      "metadata": {
        "colab": {
          "base_uri": "https://localhost:8080/"
        },
        "id": "o1c5O4kEkVw9",
        "outputId": "452569a3-2e3f-40c8-beee-cf37280f1154"
      },
      "execution_count": 130,
      "outputs": [
        {
          "output_type": "stream",
          "name": "stdout",
          "text": [
            "a 배열의 최소값:  0.12118491980232848\n"
          ]
        }
      ]
    },
    {
      "cell_type": "code",
      "source": [],
      "metadata": {
        "id": "_Qt9um3PkgSe"
      },
      "execution_count": null,
      "outputs": []
    }
  ]
}